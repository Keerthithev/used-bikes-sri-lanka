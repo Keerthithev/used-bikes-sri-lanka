{
 "cells": [
  {
   "cell_type": "code",
   "execution_count": 1,
   "id": "066b664b-92ce-4cec-a74e-b415a8aa80ad",
   "metadata": {},
   "outputs": [],
   "source": [
    "import pandas as pd\n",
    "import numpy as np\n",
    "import matplotlib.pyplot as plt\n",
    "import seaborn as sns\n"
   ]
  },
  {
   "cell_type": "code",
   "execution_count": 2,
   "id": "0a843271-4ec6-4f10-afea-fbf8d956613a",
   "metadata": {},
   "outputs": [
    {
     "data": {
      "text/html": [
       "<div>\n",
       "<style scoped>\n",
       "    .dataframe tbody tr th:only-of-type {\n",
       "        vertical-align: middle;\n",
       "    }\n",
       "\n",
       "    .dataframe tbody tr th {\n",
       "        vertical-align: top;\n",
       "    }\n",
       "\n",
       "    .dataframe thead th {\n",
       "        text-align: right;\n",
       "    }\n",
       "</style>\n",
       "<table border=\"1\" class=\"dataframe\">\n",
       "  <thead>\n",
       "    <tr style=\"text-align: right;\">\n",
       "      <th></th>\n",
       "      <th>Summary</th>\n",
       "      <th>url</th>\n",
       "      <th>Title</th>\n",
       "      <th>Post_Details</th>\n",
       "      <th>Bike Type</th>\n",
       "      <th>Brand</th>\n",
       "      <th>Trim/Edition</th>\n",
       "      <th>Model</th>\n",
       "      <th>Year</th>\n",
       "      <th>Mileage</th>\n",
       "      <th>Seller</th>\n",
       "      <th>Capacity</th>\n",
       "      <th>Price</th>\n",
       "    </tr>\n",
       "  </thead>\n",
       "  <tbody>\n",
       "    <tr>\n",
       "      <th>0</th>\n",
       "      <td>Atv beach bike 201435,000 kmKegalle, Motorbike...</td>\n",
       "      <td>https://ikman.lk/en/ad/atv-beach-bike-2014-for...</td>\n",
       "      <td>Atv beach bike 2014</td>\n",
       "      <td>Posted on 30 Jan 9:02 am, Kegalle City, Kegalle</td>\n",
       "      <td>Quadricycles</td>\n",
       "      <td>Other brand</td>\n",
       "      <td>Atv beach bike</td>\n",
       "      <td>Other model</td>\n",
       "      <td>2014</td>\n",
       "      <td>35,000 km</td>\n",
       "      <td>lakee</td>\n",
       "      <td>150 cc</td>\n",
       "      <td>Rs 440,000</td>\n",
       "    </tr>\n",
       "    <tr>\n",
       "      <th>1</th>\n",
       "      <td>Bajaj Pulsar 150 palsar 201450,737 kmAnuradhap...</td>\n",
       "      <td>https://ikman.lk/en/ad/bajaj-pulsar-150-palsar...</td>\n",
       "      <td>Bajaj Pulsar 150 palsar 2014</td>\n",
       "      <td>Posted on 11 Mar 1:58 pm, Kekirawa, Anuradhapura</td>\n",
       "      <td>Motorbikes</td>\n",
       "      <td>Bajaj</td>\n",
       "      <td>palsar 150</td>\n",
       "      <td>Pulsar 150</td>\n",
       "      <td>2014</td>\n",
       "      <td>50,737 km</td>\n",
       "      <td>Sasila Ishan</td>\n",
       "      <td>150 cc</td>\n",
       "      <td>Rs 370,000</td>\n",
       "    </tr>\n",
       "    <tr>\n",
       "      <th>2</th>\n",
       "      <td>Beach Buggy 20055,000 kmColombo, MotorbikesRs ...</td>\n",
       "      <td>https://ikman.lk/en/ad/beach-buggy-2005-for-sa...</td>\n",
       "      <td>Beach Buggy 2005</td>\n",
       "      <td>Posted on 21 Jan 9:45 pm, Talawatugoda, Colombo</td>\n",
       "      <td>Quadricycles</td>\n",
       "      <td>Other brand</td>\n",
       "      <td>Beach Buggy</td>\n",
       "      <td>Other model</td>\n",
       "      <td>2005</td>\n",
       "      <td>5,000 km</td>\n",
       "      <td>vinuka automart</td>\n",
       "      <td>125 cc</td>\n",
       "      <td>Rs 210,000</td>\n",
       "    </tr>\n",
       "    <tr>\n",
       "      <th>3</th>\n",
       "      <td>Electra Alpha Vino 2019600 kmColombo, Motorbik...</td>\n",
       "      <td>https://ikman.lk/en/ad/electra-alfa-vino-2019-...</td>\n",
       "      <td>Electra Alpha Vino 2019</td>\n",
       "      <td>Posted on 22 Feb 2:26 pm, Moratuwa, Colombo</td>\n",
       "      <td>E-bikes</td>\n",
       "      <td>Electra</td>\n",
       "      <td>Vino</td>\n",
       "      <td>Alpha</td>\n",
       "      <td>2019</td>\n",
       "      <td>600 km</td>\n",
       "      <td>Jeewantha Basnayaka</td>\n",
       "      <td>49 cc</td>\n",
       "      <td>Rs 105,000</td>\n",
       "    </tr>\n",
       "    <tr>\n",
       "      <th>4</th>\n",
       "      <td>Hero Maestro Edge 201818,500 kmMEMBERKalutara,...</td>\n",
       "      <td>https://ikman.lk/en/ad/hero-maestro-edge-2018-...</td>\n",
       "      <td>Hero Maestro Edge 2018</td>\n",
       "      <td>Posted on 07 Mar 2:08 pm, Bandaragama, Kalutara</td>\n",
       "      <td>Scooters</td>\n",
       "      <td>Hero</td>\n",
       "      <td>2018</td>\n",
       "      <td>Maestro Edge</td>\n",
       "      <td>2018</td>\n",
       "      <td>18,500 km</td>\n",
       "      <td>Anjalee Motors</td>\n",
       "      <td>110 cc</td>\n",
       "      <td>Rs 80,000</td>\n",
       "    </tr>\n",
       "  </tbody>\n",
       "</table>\n",
       "</div>"
      ],
      "text/plain": [
       "                                             Summary  \\\n",
       "0  Atv beach bike 201435,000 kmKegalle, Motorbike...   \n",
       "1  Bajaj Pulsar 150 palsar 201450,737 kmAnuradhap...   \n",
       "2  Beach Buggy 20055,000 kmColombo, MotorbikesRs ...   \n",
       "3  Electra Alpha Vino 2019600 kmColombo, Motorbik...   \n",
       "4  Hero Maestro Edge 201818,500 kmMEMBERKalutara,...   \n",
       "\n",
       "                                                 url  \\\n",
       "0  https://ikman.lk/en/ad/atv-beach-bike-2014-for...   \n",
       "1  https://ikman.lk/en/ad/bajaj-pulsar-150-palsar...   \n",
       "2  https://ikman.lk/en/ad/beach-buggy-2005-for-sa...   \n",
       "3  https://ikman.lk/en/ad/electra-alfa-vino-2019-...   \n",
       "4  https://ikman.lk/en/ad/hero-maestro-edge-2018-...   \n",
       "\n",
       "                          Title  \\\n",
       "0           Atv beach bike 2014   \n",
       "1  Bajaj Pulsar 150 palsar 2014   \n",
       "2              Beach Buggy 2005   \n",
       "3       Electra Alpha Vino 2019   \n",
       "4        Hero Maestro Edge 2018   \n",
       "\n",
       "                                       Post_Details     Bike Type  \\\n",
       "0   Posted on 30 Jan 9:02 am, Kegalle City, Kegalle  Quadricycles   \n",
       "1  Posted on 11 Mar 1:58 pm, Kekirawa, Anuradhapura    Motorbikes   \n",
       "2   Posted on 21 Jan 9:45 pm, Talawatugoda, Colombo  Quadricycles   \n",
       "3       Posted on 22 Feb 2:26 pm, Moratuwa, Colombo       E-bikes   \n",
       "4   Posted on 07 Mar 2:08 pm, Bandaragama, Kalutara      Scooters   \n",
       "\n",
       "         Brand    Trim/Edition         Model  Year    Mileage  \\\n",
       "0  Other brand  Atv beach bike   Other model  2014  35,000 km   \n",
       "1        Bajaj      palsar 150    Pulsar 150  2014  50,737 km   \n",
       "2  Other brand     Beach Buggy   Other model  2005   5,000 km   \n",
       "3      Electra            Vino         Alpha  2019     600 km   \n",
       "4         Hero            2018  Maestro Edge  2018  18,500 km   \n",
       "\n",
       "                Seller Capacity       Price  \n",
       "0                lakee   150 cc  Rs 440,000  \n",
       "1         Sasila Ishan   150 cc  Rs 370,000  \n",
       "2      vinuka automart   125 cc  Rs 210,000  \n",
       "3  Jeewantha Basnayaka    49 cc  Rs 105,000  \n",
       "4       Anjalee Motors   110 cc   Rs 80,000  "
      ]
     },
     "execution_count": 2,
     "metadata": {},
     "output_type": "execute_result"
    }
   ],
   "source": [
    "df = pd.read_csv('used-bikes.csv')\n",
    "df.head()"
   ]
  },
  {
   "cell_type": "code",
   "execution_count": null,
   "id": "d053e983-d153-4bb9-8c6b-3e787b0b4eaa",
   "metadata": {},
   "outputs": [],
   "source": []
  },
  {
   "cell_type": "code",
   "execution_count": 3,
   "id": "8b4eb34a-6836-4780-a7e4-0515ef0940ed",
   "metadata": {},
   "outputs": [
    {
     "name": "stdout",
     "output_type": "stream",
     "text": [
      "<class 'pandas.core.frame.DataFrame'>\n",
      "RangeIndex: 5016 entries, 0 to 5015\n",
      "Data columns (total 13 columns):\n",
      " #   Column        Non-Null Count  Dtype \n",
      "---  ------        --------------  ----- \n",
      " 0   Summary       5016 non-null   object\n",
      " 1   url           5016 non-null   object\n",
      " 2   Title         5016 non-null   object\n",
      " 3   Post_Details  5016 non-null   object\n",
      " 4   Bike Type     5016 non-null   object\n",
      " 5   Brand         5016 non-null   object\n",
      " 6   Trim/Edition  3815 non-null   object\n",
      " 7   Model         5016 non-null   object\n",
      " 8   Year          5016 non-null   int64 \n",
      " 9   Mileage       5016 non-null   object\n",
      " 10  Seller        5013 non-null   object\n",
      " 11  Capacity      5016 non-null   object\n",
      " 12  Price         5016 non-null   object\n",
      "dtypes: int64(1), object(12)\n",
      "memory usage: 509.6+ KB\n"
     ]
    },
    {
     "data": {
      "text/plain": [
       "Summary            0\n",
       "url                0\n",
       "Title              0\n",
       "Post_Details       0\n",
       "Bike Type          0\n",
       "Brand              0\n",
       "Trim/Edition    1201\n",
       "Model              0\n",
       "Year               0\n",
       "Mileage            0\n",
       "Seller             3\n",
       "Capacity           0\n",
       "Price              0\n",
       "dtype: int64"
      ]
     },
     "execution_count": 3,
     "metadata": {},
     "output_type": "execute_result"
    }
   ],
   "source": [
    "df.info()\n",
    "df.isnull().sum()\n"
   ]
  },
  {
   "cell_type": "code",
   "execution_count": 4,
   "id": "bf38feb0-2a8c-465d-b4f3-466d4c7cc767",
   "metadata": {},
   "outputs": [],
   "source": [
    "df.drop(columns=['Summary', 'url', 'Post_Details', 'Title'], inplace=True)\n"
   ]
  },
  {
   "cell_type": "code",
   "execution_count": 5,
   "id": "bb1973fa-80fc-442d-94c9-395a6fa27de5",
   "metadata": {},
   "outputs": [],
   "source": [
    "df['Trim/Edition'] = df['Trim/Edition'].fillna('Unknown')\n"
   ]
  },
  {
   "cell_type": "code",
   "execution_count": 6,
   "id": "1e549d6d-04b9-44f2-92d6-b137040f72a1",
   "metadata": {},
   "outputs": [],
   "source": [
    "df['Seller'] = df['Seller'].fillna('Unknown')\n"
   ]
  },
  {
   "cell_type": "code",
   "execution_count": 7,
   "id": "fad133c0-be27-4c0c-83e7-c25ca583589d",
   "metadata": {},
   "outputs": [],
   "source": [
    "df['Price'] = df['Price'].replace('[Rs,]', '', regex=True)\n",
    "df['Price'] = df['Price'].replace(',', '', regex=True)\n",
    "df['Price'] = pd.to_numeric(df['Price'], errors='coerce')\n"
   ]
  },
  {
   "cell_type": "code",
   "execution_count": 8,
   "id": "373a933a-19ea-4285-b2e3-39de0bb9e4b6",
   "metadata": {},
   "outputs": [],
   "source": [
    "df['Mileage'] = df['Mileage'].str.replace(',', '')\n",
    "df['Mileage'] = df['Mileage'].str.extract('(\\d+)', expand=False)\n",
    "df['Mileage'] = pd.to_numeric(df['Mileage'], errors='coerce')"
   ]
  },
  {
   "cell_type": "code",
   "execution_count": 9,
   "id": "af3180ba-770e-4c98-8e8d-369815cae401",
   "metadata": {},
   "outputs": [],
   "source": [
    "df['Capacity'] = df['Capacity'].str.extract('(\\d+)', expand=False)\n",
    "df['Capacity'] = pd.to_numeric(df['Capacity'], errors='coerce')\n"
   ]
  },
  {
   "cell_type": "code",
   "execution_count": 10,
   "id": "281a25ea-d8de-41d6-a20e-036cdab6a26c",
   "metadata": {},
   "outputs": [],
   "source": [
    "df['Brand'] = df['Brand'].str.strip().str.title()\n",
    "df['Model'] = df['Model'].str.strip().str.title()\n",
    "df['Bike Type'] = df['Bike Type'].str.strip().str.title()\n"
   ]
  },
  {
   "cell_type": "code",
   "execution_count": 11,
   "id": "da403438-652b-4399-9a09-c3422d942167",
   "metadata": {},
   "outputs": [],
   "source": [
    "df.drop_duplicates(inplace=True)\n"
   ]
  },
  {
   "cell_type": "code",
   "execution_count": 12,
   "id": "91288321-c1d2-4bcb-b27b-37cd879b724a",
   "metadata": {},
   "outputs": [
    {
     "name": "stdout",
     "output_type": "stream",
     "text": [
      "<class 'pandas.core.frame.DataFrame'>\n",
      "Index: 5000 entries, 0 to 5015\n",
      "Data columns (total 9 columns):\n",
      " #   Column        Non-Null Count  Dtype \n",
      "---  ------        --------------  ----- \n",
      " 0   Bike Type     5000 non-null   object\n",
      " 1   Brand         5000 non-null   object\n",
      " 2   Trim/Edition  5000 non-null   object\n",
      " 3   Model         5000 non-null   object\n",
      " 4   Year          5000 non-null   int64 \n",
      " 5   Mileage       5000 non-null   int64 \n",
      " 6   Seller        5000 non-null   object\n",
      " 7   Capacity      5000 non-null   int64 \n",
      " 8   Price         5000 non-null   int64 \n",
      "dtypes: int64(4), object(5)\n",
      "memory usage: 390.6+ KB\n"
     ]
    },
    {
     "data": {
      "text/html": [
       "<div>\n",
       "<style scoped>\n",
       "    .dataframe tbody tr th:only-of-type {\n",
       "        vertical-align: middle;\n",
       "    }\n",
       "\n",
       "    .dataframe tbody tr th {\n",
       "        vertical-align: top;\n",
       "    }\n",
       "\n",
       "    .dataframe thead th {\n",
       "        text-align: right;\n",
       "    }\n",
       "</style>\n",
       "<table border=\"1\" class=\"dataframe\">\n",
       "  <thead>\n",
       "    <tr style=\"text-align: right;\">\n",
       "      <th></th>\n",
       "      <th>Year</th>\n",
       "      <th>Mileage</th>\n",
       "      <th>Capacity</th>\n",
       "      <th>Price</th>\n",
       "    </tr>\n",
       "  </thead>\n",
       "  <tbody>\n",
       "    <tr>\n",
       "      <th>count</th>\n",
       "      <td>5000.000000</td>\n",
       "      <td>5000.000000</td>\n",
       "      <td>5000.000000</td>\n",
       "      <td>5.000000e+03</td>\n",
       "    </tr>\n",
       "    <tr>\n",
       "      <th>mean</th>\n",
       "      <td>2013.226000</td>\n",
       "      <td>45299.790800</td>\n",
       "      <td>132.519800</td>\n",
       "      <td>3.162096e+05</td>\n",
       "    </tr>\n",
       "    <tr>\n",
       "      <th>std</th>\n",
       "      <td>7.372557</td>\n",
       "      <td>63978.300745</td>\n",
       "      <td>44.451866</td>\n",
       "      <td>2.356844e+05</td>\n",
       "    </tr>\n",
       "    <tr>\n",
       "      <th>min</th>\n",
       "      <td>1923.000000</td>\n",
       "      <td>75.000000</td>\n",
       "      <td>1.000000</td>\n",
       "      <td>1.700000e+04</td>\n",
       "    </tr>\n",
       "    <tr>\n",
       "      <th>25%</th>\n",
       "      <td>2011.000000</td>\n",
       "      <td>20000.000000</td>\n",
       "      <td>110.000000</td>\n",
       "      <td>1.500000e+05</td>\n",
       "    </tr>\n",
       "    <tr>\n",
       "      <th>50%</th>\n",
       "      <td>2016.000000</td>\n",
       "      <td>32363.000000</td>\n",
       "      <td>125.000000</td>\n",
       "      <td>2.550000e+05</td>\n",
       "    </tr>\n",
       "    <tr>\n",
       "      <th>75%</th>\n",
       "      <td>2018.000000</td>\n",
       "      <td>50000.000000</td>\n",
       "      <td>150.000000</td>\n",
       "      <td>4.400000e+05</td>\n",
       "    </tr>\n",
       "    <tr>\n",
       "      <th>max</th>\n",
       "      <td>2022.000000</td>\n",
       "      <td>950000.000000</td>\n",
       "      <td>749.000000</td>\n",
       "      <td>2.500000e+06</td>\n",
       "    </tr>\n",
       "  </tbody>\n",
       "</table>\n",
       "</div>"
      ],
      "text/plain": [
       "              Year        Mileage     Capacity         Price\n",
       "count  5000.000000    5000.000000  5000.000000  5.000000e+03\n",
       "mean   2013.226000   45299.790800   132.519800  3.162096e+05\n",
       "std       7.372557   63978.300745    44.451866  2.356844e+05\n",
       "min    1923.000000      75.000000     1.000000  1.700000e+04\n",
       "25%    2011.000000   20000.000000   110.000000  1.500000e+05\n",
       "50%    2016.000000   32363.000000   125.000000  2.550000e+05\n",
       "75%    2018.000000   50000.000000   150.000000  4.400000e+05\n",
       "max    2022.000000  950000.000000   749.000000  2.500000e+06"
      ]
     },
     "execution_count": 12,
     "metadata": {},
     "output_type": "execute_result"
    }
   ],
   "source": [
    "df.info()\n",
    "df.describe()\n"
   ]
  },
  {
   "cell_type": "code",
   "execution_count": 13,
   "id": "7e32b51a-38af-4996-beef-1d0745a2991d",
   "metadata": {},
   "outputs": [],
   "source": [
    "df = df[df['Year'] >= 2000]\n"
   ]
  },
  {
   "cell_type": "code",
   "execution_count": null,
   "id": "397f8103-0530-43f5-954e-3580b1f0a843",
   "metadata": {},
   "outputs": [],
   "source": []
  },
  {
   "cell_type": "code",
   "execution_count": 14,
   "id": "2a664aed-5bfe-40ec-b403-cef148ca94f0",
   "metadata": {},
   "outputs": [],
   "source": [
    "df = df[df['Mileage'] <= 300000]\n"
   ]
  },
  {
   "cell_type": "code",
   "execution_count": 15,
   "id": "ff14dd8b-71da-43d3-b9d6-d0508510f48d",
   "metadata": {},
   "outputs": [
    {
     "data": {
      "text/plain": [
       "<Axes: title={'center': 'Top 10 Most Listed Bike Brands'}, ylabel='Brand'>"
      ]
     },
     "execution_count": 15,
     "metadata": {},
     "output_type": "execute_result"
    },
    {
     "data": {
      "image/png": "[encoded data removed]",
      "text/plain": [
       "<Figure size 640x480 with 1 Axes>"
      ]
     },
     "metadata": {},
     "output_type": "display_data"
    }
   ],
   "source": [
    "df['Brand'].value_counts().head(10).plot(kind='barh', title='Top 10 Most Listed Bike Brands')\n"
   ]
  },
  {
   "cell_type": "code",
   "execution_count": null,
   "id": "a7d1ebe7-f5b2-4b02-a3d9-e1b32af2f293",
   "metadata": {},
   "outputs": [],
   "source": []
  },
  {
   "cell_type": "code",
   "execution_count": 16,
   "id": "01e5bb5c-f659-421e-9737-ad5a65dd12bb",
   "metadata": {},
   "outputs": [
    {
     "data": {
      "text/plain": [
       "<Axes: title={'center': 'Avg Price by Brand'}, xlabel='Brand'>"
      ]
     },
     "execution_count": 16,
     "metadata": {},
     "output_type": "execute_result"
    },
    {
     "data": {
      "image/png": "[encoded data removed]",
      "text/plain": [
       "<Figure size 640x480 with 1 Axes>"
      ]
     },
     "metadata": {},
     "output_type": "display_data"
    }
   ],
   "source": [
    "df.groupby('Brand')['Price'].mean().sort_values(ascending=False).head(10).plot(kind='bar', title='Avg Price by Brand')\n"
   ]
  },
  {
   "cell_type": "code",
   "execution_count": null,
   "id": "becba9b7-a322-4f1c-b43e-ff46107ef83a",
   "metadata": {},
   "outputs": [],
   "source": []
  },
  {
   "cell_type": "code",
   "execution_count": 17,
   "id": "e12afff8-02c8-4e3f-bea6-bb6457866cc1",
   "metadata": {},
   "outputs": [
    {
     "data": {
      "text/plain": [
       "<Axes: title={'center': 'Distribution of Bike Types'}, ylabel='count'>"
      ]
     },
     "execution_count": 17,
     "metadata": {},
     "output_type": "execute_result"
    },
    {
     "data": {
      "image/png": "[encoded data removed]",
      "text/plain": [
       "<Figure size 640x480 with 1 Axes>"
      ]
     },
     "metadata": {},
     "output_type": "display_data"
    }
   ],
   "source": [
    "df['Bike Type'].value_counts().plot(kind='pie', autopct='%1.1f%%', title='Distribution of Bike Types')\n"
   ]
  },
  {
   "cell_type": "code",
   "execution_count": null,
   "id": "a5225c32-ab66-4a37-aae1-11589aba67a0",
   "metadata": {},
   "outputs": [],
   "source": []
  },
  {
   "cell_type": "code",
   "execution_count": 18,
   "id": "3684f319-fffb-49c0-9417-9f9b27f9b8af",
   "metadata": {},
   "outputs": [
    {
     "data": {
      "text/plain": [
       "<Axes: xlabel='Year', ylabel='Price'>"
      ]
     },
     "execution_count": 18,
     "metadata": {},
     "output_type": "execute_result"
    },
    {
     "data": {
      "image/png": "[encoded data removed]",
      "text/plain": [
       "<Figure size 640x480 with 1 Axes>"
      ]
     },
     "metadata": {},
     "output_type": "display_data"
    }
   ],
   "source": [
    "import seaborn as sns\n",
    "sns.boxplot(data=df, x='Year', y='Price')\n"
   ]
  },
  {
   "cell_type": "code",
   "execution_count": null,
   "id": "5ce7bffa-185f-4d08-b5eb-e5718161aef4",
   "metadata": {},
   "outputs": [],
   "source": []
  },
  {
   "cell_type": "code",
   "execution_count": 19,
   "id": "cfdaa00d-7ce3-4fb4-b18d-8390efacd905",
   "metadata": {},
   "outputs": [
    {
     "data": {
      "text/plain": [
       "<Axes: title={'center': 'Mileage Distribution'}, ylabel='Frequency'>"
      ]
     },
     "execution_count": 19,
     "metadata": {},
     "output_type": "execute_result"
    },
    {
     "data": {
      "image/png": "[encoded data removed]",
      "text/plain": [
       "<Figure size 640x480 with 1 Axes>"
      ]
     },
     "metadata": {},
     "output_type": "display_data"
    }
   ],
   "source": [
    "df['Mileage'].plot(kind='hist', bins=30, title='Mileage Distribution')\n"
   ]
  },
  {
   "cell_type": "code",
   "execution_count": null,
   "id": "a4aef042-f40f-47fe-bef0-750516212b1c",
   "metadata": {},
   "outputs": [],
   "source": []
  },
  {
   "cell_type": "code",
   "execution_count": 20,
   "id": "e704cd86-4076-4119-a00a-48f61d71cc6f",
   "metadata": {},
   "outputs": [
    {
     "data": {
      "text/plain": [
       "<Axes: xlabel='Capacity', ylabel='Price'>"
      ]
     },
     "execution_count": 20,
     "metadata": {},
     "output_type": "execute_result"
    },
    {
     "data": {
      "image/png": "[encoded data removed]",
      "text/plain": [
       "<Figure size 640x480 with 1 Axes>"
      ]
     },
     "metadata": {},
     "output_type": "display_data"
    }
   ],
   "source": [
    "sns.scatterplot(data=df, x='Capacity', y='Price')\n"
   ]
  },
  {
   "cell_type": "code",
   "execution_count": null,
   "id": "8d0fac1f-04b9-436f-8059-3c56e4c35f39",
   "metadata": {},
   "outputs": [],
   "source": []
  },
  {
   "cell_type": "code",
   "execution_count": 22,
   "id": "b2e72f88-9501-470f-b1ff-8e98f3da4c5d",
   "metadata": {},
   "outputs": [],
   "source": [
    "# Convert columns to string first to ensure .str methods work\n",
    "df['Mileage'] = df['Mileage'].astype(str).str.replace(',', '').str.extract('(\\d+)').astype(float)\n",
    "df['Capacity'] = df['Capacity'].astype(str).str.extract('(\\d+)').astype(float)\n",
    "df['Price'] = df['Price'].astype(str).str.replace(',', '').str.extract('(\\d+)').astype(float)\n"
   ]
  },
  {
   "cell_type": "code",
   "execution_count": 23,
   "id": "43ba666b-6a00-4089-9dc2-415cb0342caa",
   "metadata": {},
   "outputs": [],
   "source": [
    "# Drop rows with unrealistic values\n",
    "df = df[(df['Year'] >= 2000) & (df['Mileage'] <= 300000) & (df['Price'] < 1500000)]\n"
   ]
  },
  {
   "cell_type": "code",
   "execution_count": 24,
   "id": "b543e3fd-8b4d-4012-8ba9-697d98af3a5a",
   "metadata": {},
   "outputs": [],
   "source": [
    "df = df.dropna(subset=['Trim/Edition', 'Seller'])  # if needed\n"
   ]
  },
  {
   "cell_type": "code",
   "execution_count": 25,
   "id": "1388ec96-2f08-4d2f-971d-312b7e131822",
   "metadata": {},
   "outputs": [],
   "source": [
    "df.to_csv('cleaned_bike_data.csv', index=False)\n"
   ]
  },
  {
   "cell_type": "code",
   "execution_count": 26,
   "id": "ab8591e8-1c21-4603-b819-5bb808b8cf4f",
   "metadata": {},
   "outputs": [],
   "source": [
    "# Strip spaces and fix case (e.g., capitalize properly)\n",
    "for col in ['Bike Type', 'Brand', 'Trim/Edition', 'Model', 'Seller']:\n",
    "    df[col] = df[col].astype(str).str.strip().str.title()\n"
   ]
  },
  {
   "cell_type": "code",
   "execution_count": 27,
   "id": "a9eb7edc-9d1a-42b6-b955-21e9a32a5245",
   "metadata": {},
   "outputs": [],
   "source": [
    "# Replace placeholders with NaN (e.g. '.' or 'Unknown')\n",
    "df.replace({'.': pd.NA, 'Unknown': pd.NA, 'Nan': pd.NA, 'Na': pd.NA}, inplace=True)\n"
   ]
  },
  {
   "cell_type": "code",
   "execution_count": 28,
   "id": "44937a91-d276-4f71-a81e-22901203b655",
   "metadata": {},
   "outputs": [],
   "source": [
    "num_cols = ['Year', 'Mileage', 'Capacity', 'Price']\n",
    "for col in num_cols:\n",
    "    df[col] = pd.to_numeric(df[col], errors='coerce')\n"
   ]
  },
  {
   "cell_type": "code",
   "execution_count": 29,
   "id": "1a223843-86b2-42ee-8e64-57184ee8fef9",
   "metadata": {},
   "outputs": [],
   "source": [
    "# For example, fill missing numeric data with median or drop rows with important missing info\n",
    "df['Mileage'] = df['Mileage'].fillna(df['Mileage'].median())\n",
    "df.dropna(subset=['Price', 'Year'], inplace=True)  # drop rows without price or year\n"
   ]
  },
  {
   "cell_type": "code",
   "execution_count": 30,
   "id": "0443244f-2987-4a45-8319-9fd087327c8f",
   "metadata": {},
   "outputs": [],
   "source": [
    "# For example, remove exact duplicates\n",
    "df.drop_duplicates(inplace=True)\n"
   ]
  },
  {
   "cell_type": "code",
   "execution_count": 31,
   "id": "ce459efd-831f-455c-8eda-9b7892fbb1d3",
   "metadata": {},
   "outputs": [
    {
     "name": "stdout",
     "output_type": "stream",
     "text": [
      "<class 'pandas.core.frame.DataFrame'>\n",
      "Index: 4656 entries, 0 to 5014\n",
      "Data columns (total 9 columns):\n",
      " #   Column        Non-Null Count  Dtype  \n",
      "---  ------        --------------  -----  \n",
      " 0   Bike Type     4656 non-null   object \n",
      " 1   Brand         4656 non-null   object \n",
      " 2   Trim/Edition  3394 non-null   object \n",
      " 3   Model         4656 non-null   object \n",
      " 4   Year          4656 non-null   int64  \n",
      " 5   Mileage       4656 non-null   float64\n",
      " 6   Seller        4653 non-null   object \n",
      " 7   Capacity      4656 non-null   float64\n",
      " 8   Price         4656 non-null   float64\n",
      "dtypes: float64(3), int64(1), object(5)\n",
      "memory usage: 363.8+ KB\n"
     ]
    },
    {
     "data": {
      "text/html": [
       "<div>\n",
       "<style scoped>\n",
       "    .dataframe tbody tr th:only-of-type {\n",
       "        vertical-align: middle;\n",
       "    }\n",
       "\n",
       "    .dataframe tbody tr th {\n",
       "        vertical-align: top;\n",
       "    }\n",
       "\n",
       "    .dataframe thead th {\n",
       "        text-align: right;\n",
       "    }\n",
       "</style>\n",
       "<table border=\"1\" class=\"dataframe\">\n",
       "  <thead>\n",
       "    <tr style=\"text-align: right;\">\n",
       "      <th></th>\n",
       "      <th>Bike Type</th>\n",
       "      <th>Brand</th>\n",
       "      <th>Trim/Edition</th>\n",
       "      <th>Model</th>\n",
       "      <th>Year</th>\n",
       "      <th>Mileage</th>\n",
       "      <th>Seller</th>\n",
       "      <th>Capacity</th>\n",
       "      <th>Price</th>\n",
       "    </tr>\n",
       "  </thead>\n",
       "  <tbody>\n",
       "    <tr>\n",
       "      <th>0</th>\n",
       "      <td>Quadricycles</td>\n",
       "      <td>Other Brand</td>\n",
       "      <td>Atv Beach Bike</td>\n",
       "      <td>Other Model</td>\n",
       "      <td>2014</td>\n",
       "      <td>35000.0</td>\n",
       "      <td>Lakee</td>\n",
       "      <td>150.0</td>\n",
       "      <td>440000.0</td>\n",
       "    </tr>\n",
       "    <tr>\n",
       "      <th>1</th>\n",
       "      <td>Motorbikes</td>\n",
       "      <td>Bajaj</td>\n",
       "      <td>Palsar 150</td>\n",
       "      <td>Pulsar 150</td>\n",
       "      <td>2014</td>\n",
       "      <td>50737.0</td>\n",
       "      <td>Sasila Ishan</td>\n",
       "      <td>150.0</td>\n",
       "      <td>370000.0</td>\n",
       "    </tr>\n",
       "    <tr>\n",
       "      <th>2</th>\n",
       "      <td>Quadricycles</td>\n",
       "      <td>Other Brand</td>\n",
       "      <td>Beach Buggy</td>\n",
       "      <td>Other Model</td>\n",
       "      <td>2005</td>\n",
       "      <td>5000.0</td>\n",
       "      <td>Vinuka Automart</td>\n",
       "      <td>125.0</td>\n",
       "      <td>210000.0</td>\n",
       "    </tr>\n",
       "    <tr>\n",
       "      <th>3</th>\n",
       "      <td>E-Bikes</td>\n",
       "      <td>Electra</td>\n",
       "      <td>Vino</td>\n",
       "      <td>Alpha</td>\n",
       "      <td>2019</td>\n",
       "      <td>600.0</td>\n",
       "      <td>Jeewantha Basnayaka</td>\n",
       "      <td>49.0</td>\n",
       "      <td>105000.0</td>\n",
       "    </tr>\n",
       "    <tr>\n",
       "      <th>4</th>\n",
       "      <td>Scooters</td>\n",
       "      <td>Hero</td>\n",
       "      <td>2018</td>\n",
       "      <td>Maestro Edge</td>\n",
       "      <td>2018</td>\n",
       "      <td>18500.0</td>\n",
       "      <td>Anjalee Motors</td>\n",
       "      <td>110.0</td>\n",
       "      <td>80000.0</td>\n",
       "    </tr>\n",
       "  </tbody>\n",
       "</table>\n",
       "</div>"
      ],
      "text/plain": [
       "      Bike Type        Brand    Trim/Edition         Model  Year  Mileage  \\\n",
       "0  Quadricycles  Other Brand  Atv Beach Bike   Other Model  2014  35000.0   \n",
       "1    Motorbikes        Bajaj      Palsar 150    Pulsar 150  2014  50737.0   \n",
       "2  Quadricycles  Other Brand     Beach Buggy   Other Model  2005   5000.0   \n",
       "3       E-Bikes      Electra            Vino         Alpha  2019    600.0   \n",
       "4      Scooters         Hero            2018  Maestro Edge  2018  18500.0   \n",
       "\n",
       "                Seller  Capacity     Price  \n",
       "0                Lakee     150.0  440000.0  \n",
       "1         Sasila Ishan     150.0  370000.0  \n",
       "2      Vinuka Automart     125.0  210000.0  \n",
       "3  Jeewantha Basnayaka      49.0  105000.0  \n",
       "4       Anjalee Motors     110.0   80000.0  "
      ]
     },
     "execution_count": 31,
     "metadata": {},
     "output_type": "execute_result"
    }
   ],
   "source": [
    "df.info()\n",
    "df.head()\n"
   ]
  },
  {
   "cell_type": "code",
   "execution_count": 32,
   "id": "24b69859-ede9-49f8-8c93-3eaa0bffbf76",
   "metadata": {},
   "outputs": [],
   "source": [
    "df['Trim/Edition'] = df['Trim/Edition'].fillna('Unknown')\n"
   ]
  },
  {
   "cell_type": "code",
   "execution_count": 33,
   "id": "37c2213f-3579-4490-8ca3-ca10f71c4839",
   "metadata": {},
   "outputs": [],
   "source": [
    "df['Seller'] = df['Seller'].fillna('Unknown')\n",
    "# OR\n",
    "# df = df.dropna(subset=['Seller'])\n"
   ]
  },
  {
   "cell_type": "code",
   "execution_count": 34,
   "id": "e423958d-ee03-4681-8055-13a8471fefe2",
   "metadata": {},
   "outputs": [],
   "source": [
    "text_cols = ['Bike Type', 'Brand', 'Trim/Edition', 'Model', 'Seller']\n",
    "for col in text_cols:\n",
    "    df[col] = df[col].str.strip().str.title()  # Capitalizes first letters, removes spaces\n"
   ]
  },
  {
   "cell_type": "code",
   "execution_count": 35,
   "id": "ac664070-9c07-42c5-9d6d-518fa16dd31c",
   "metadata": {},
   "outputs": [
    {
     "name": "stdout",
     "output_type": "stream",
     "text": [
      "Duplicates before: 0\n",
      "Duplicates after: 0\n"
     ]
    }
   ],
   "source": [
    "print(f\"Duplicates before: {df.duplicated().sum()}\")\n",
    "df = df.drop_duplicates()\n",
    "print(f\"Duplicates after: {df.duplicated().sum()}\")\n"
   ]
  },
  {
   "cell_type": "code",
   "execution_count": 36,
   "id": "190abb83-3c4d-48dc-9576-9fe3bcf412d3",
   "metadata": {},
   "outputs": [
    {
     "name": "stdout",
     "output_type": "stream",
     "text": [
      "Empty DataFrame\n",
      "Columns: [Bike Type, Brand, Trim/Edition, Model, Year, Mileage, Seller, Capacity, Price]\n",
      "Index: []\n"
     ]
    }
   ],
   "source": [
    "print(df[(df['Mileage'] < 0) | (df['Price'] < 0)])\n",
    "# If any rows appear here, investigate and remove/fix if needed\n"
   ]
  },
  {
   "cell_type": "code",
   "execution_count": 37,
   "id": "8d3a01b0-047e-499c-9173-bd4ce8b06bfb",
   "metadata": {},
   "outputs": [],
   "source": [
    "df = df.reset_index(drop=True)\n"
   ]
  },
  {
   "cell_type": "code",
   "execution_count": 38,
   "id": "0e0d114c-8574-4c79-8a30-720d34dfeaec",
   "metadata": {},
   "outputs": [],
   "source": [
    "df.to_csv('cleaned_bike_data.csv', index=False)\n"
   ]
  },
  {
   "cell_type": "code",
   "execution_count": 39,
   "id": "2a163ac4-0640-4f8c-9f6a-80e095e904f5",
   "metadata": {},
   "outputs": [],
   "source": [
    "df.to_csv('cleaned_bike_data2.csv', index=False)\n"
   ]
  },
  {
   "cell_type": "code",
   "execution_count": 40,
   "id": "9cf9bfd4-138c-427f-a90c-010cf72809c5",
   "metadata": {},
   "outputs": [
    {
     "data": {
      "text/plain": [
       "np.int64(0)"
      ]
     },
     "execution_count": 40,
     "metadata": {},
     "output_type": "execute_result"
    }
   ],
   "source": [
    "df.duplicated().sum()\n"
   ]
  },
  {
   "cell_type": "code",
   "execution_count": null,
   "id": "5d7d5741-694b-4c59-bff3-7b665ca18a22",
   "metadata": {},
   "outputs": [],
   "source": []
  }
 ],
 "metadata": {
  "kernelspec": {
   "display_name": "Python 3 (ipykernel)",
   "language": "python",
   "name": "python3"
  },
  "language_info": {
   "codemirror_mode": {
    "name": "ipython",
    "version": 3
   },
   "file_extension": ".py",
   "mimetype": "text/x-python",
   "name": "python",
   "nbconvert_exporter": "python",
   "pygments_lexer": "ipython3",
   "version": "3.9.23"
  }
 },
 "nbformat": 4,
 "nbformat_minor": 5
}
